{
 "cells": [
  {
   "cell_type": "code",
   "execution_count": 133,
   "metadata": {},
   "outputs": [],
   "source": [
    "import pandas as pd\n",
    "import geopandas as gpd\n",
    "import fiona"
   ]
  },
  {
   "cell_type": "code",
   "execution_count": 134,
   "metadata": {},
   "outputs": [],
   "source": [
    "kommuner = gpd.read_file(\"file://localhost/users/nicki/desktop/udvikling/python/data/KOMMUNE.zip\")\n",
    "\n",
    "danske_kommuner = kommuner[[\"FEAT_ID\", \"KOMKODE\", \"KOMNAVN\", \"geometry\"]].copy().set_index(\"FEAT_ID\")"
   ]
  },
  {
   "cell_type": "code",
   "execution_count": 135,
   "metadata": {
    "tags": []
   },
   "outputs": [],
   "source": [
    "koder=[\"0201\",\"0153\",\"0810\",\"0155\",\"0563\",\"0260\",\"0190\",\"0217\",\"0219\",\"0860\",\"0316\",\"0169\",\"0223\",\"0183\",\"0101\",\"0259\",\"0173\",\"0825\",\"0773\",\"0370\",\"0760\",\"0175\",\"0741\",\"0269\",\"0340\",\"0540\",\"0550\",\"0185\",\"0187\",\"0492\",\"0751\",\"0411\"]\n",
    "\n",
    "navne=[\"Allerød\",\"Brøndby\",\"Brønderslev-Dronninglund\",\"Dragør\",\"Fanø\",\"Frederiksværk-Hundested\",\"Furesø\",\"Helsingør\",\"Hillerød\",\"Hjørring\",\"Holbæk\",\"Høje-Taastrup\",\"Hørsholm\",\"Ishøj\",\"København\",\"Køge\",\"Lyngby-Tårbæk\",\"Læsø\",\"Morsø\",\"Næstved\",\"Ringkøbing-Skjern\",\"Rødovre\",\"Samsø\",\"Solrød\",\"Sorø\",\"Sønderborg\",\"Tønder\",\"Tårnby\",\"Vallensbæk\",\"Ærø\",\"Århus\",\"Christiansfeld\"]\n",
    "\n",
    "\n",
    "for i in range(len(koder)):\n",
    "    danske_kommuner[\"KOMNAVN\"][danske_kommuner.loc[danske_kommuner[\"KOMKODE\"]==koder[i]][\"KOMNAVN\"].index]=navne[i]\n"
   ]
  },
  {
   "cell_type": "code",
   "execution_count": 136,
   "metadata": {},
   "outputs": [],
   "source": [
    "danske_kommuner.to_file(\"danske_kommuner.json\", driver=\"GeoJSON\")"
   ]
  }
 ],
 "metadata": {
  "language_info": {
   "codemirror_mode": {
    "name": "ipython",
    "version": 3
   },
   "file_extension": ".py",
   "mimetype": "text/x-python",
   "name": "python",
   "nbconvert_exporter": "python",
   "pygments_lexer": "ipython3",
   "version": "3.7.6-final"
  },
  "orig_nbformat": 2,
  "kernelspec": {
   "name": "python37664bitbaseconda8323ff0e61ae4a6b8857dd46a341f977",
   "display_name": "Python 3.7.6 64-bit ('base': conda)"
  }
 },
 "nbformat": 4,
 "nbformat_minor": 2
}